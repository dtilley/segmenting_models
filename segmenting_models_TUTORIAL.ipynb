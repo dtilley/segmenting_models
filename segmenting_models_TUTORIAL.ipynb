{
 "cells": [
  {
   "cell_type": "markdown",
   "id": "f18ef556",
   "metadata": {},
   "source": [
    "# Segmenting Cardiomyoctye Model Parameters"
   ]
  },
  {
   "cell_type": "markdown",
   "id": "46ca9025",
   "metadata": {},
   "source": [
    "### *Personal Note*"
   ]
  },
  {
   "cell_type": "markdown",
   "id": "e4e0c925",
   "metadata": {},
   "source": [
    "*The data and analysis included here was part of a project where I evaluated predictions of cardiomyocyte action potential models. One of my objective here is to review different clustering stratagies. The model features have biophysical and physiological meaning, but I will put a principal component step in as well. The data set here was the resulting output from training multiple populations of models using evolutionary optimization algorithms. I hope you find it interesting.*"
   ]
  },
  {
   "cell_type": "code",
   "execution_count": null,
   "id": "999906e0",
   "metadata": {},
   "outputs": [],
   "source": []
  }
 ],
 "metadata": {
  "kernelspec": {
   "display_name": "Python 3",
   "language": "python",
   "name": "python3"
  },
  "language_info": {
   "codemirror_mode": {
    "name": "ipython",
    "version": 3
   },
   "file_extension": ".py",
   "mimetype": "text/x-python",
   "name": "python",
   "nbconvert_exporter": "python",
   "pygments_lexer": "ipython3",
   "version": "3.8.8"
  }
 },
 "nbformat": 4,
 "nbformat_minor": 5
}

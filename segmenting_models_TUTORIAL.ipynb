{
 "cells": [
  {
   "cell_type": "markdown",
   "id": "f18ef556",
   "metadata": {},
   "source": [
    "# Segmenting Cardiomyoctye Model Parameters"
   ]
  },
  {
   "cell_type": "markdown",
   "id": "46ca9025",
   "metadata": {},
   "source": [
    "### *Personal Note*"
   ]
  },
  {
   "cell_type": "markdown",
   "id": "e4e0c925",
   "metadata": {},
   "source": [
    "*The data and analysis included here was part of a project where I evaluated predictions of cardiomyocyte action potential models. The objective here is to separate different hypotheses from a population of models. Additionally, I review some different clustering stratagies. The model features have biophysical and physiological meaning, but I will put a principal component step in as well. The data set here was the resulting output from training multiple independent populations of models using evolutionary algorithms. I hope you find it interesting.*"
   ]
  },
  {
   "cell_type": "markdown",
   "id": "ad01560d",
   "metadata": {},
   "source": [
    "## Introduction"
   ]
  },
  {
   "cell_type": "markdown",
   "id": "ea2bfe14",
   "metadata": {},
   "source": [
    "The cardiac action potential (AP) is the electrical waveform that is conducted through individual cells during a cardiac cycle. Cardiac electrophysiology is a complex system consisting of electrically active proteins, organelles, and tonal signalling molecules that work in conjuction to produce the AP. Each singular cell expresses different quantities of each active component, which will influence the risk of an arrhythmia occurance. It is quite challenging to determine the component quanties in individual cells, so it is useful to train AP models on data sets collected from specific cells to estimate these quantities. The cardiomyocyte model I used is the Kernik-Clancy iPSC model [DOI: 10.1113/JP277724](https://doi.org/10.1113/jp277724). I used an evolutionary algorithm (EA) to optimize 14 parameters and pooled the best performing models into a single dataset. In this analysis I am going to use clustering algorithms to segment the proposed solutions from the EA.\n",
    "\n",
    "   Let's look at the data!"
   ]
  },
  {
   "cell_type": "code",
   "execution_count": 70,
   "id": "5da28028",
   "metadata": {},
   "outputs": [],
   "source": [
    "import pandas as pd\n",
    "import numpy as np\n",
    "import seaborn as sns\n",
    "import matplotlib.pyplot as plt\n",
    "from sklearn.preprocessing import StandardScaler\n",
    "from scipy.cluster.hierarchy import dendrogram,linkage\n",
    "from scipy.cluster.hierarchy import cophenet\n",
    "from scipy.spatial.distance import pdist\n",
    "\n",
    "%matplotlib inline\n",
    "\n",
    "\"\"\"'cluster_tools' is a collection of functions with some preferred defaults.\"\"\"\n",
    "import cluster_tools as ct"
   ]
  },
  {
   "cell_type": "code",
   "execution_count": 56,
   "id": "c4dddc55",
   "metadata": {},
   "outputs": [
    {
     "data": {
      "text/html": [
       "<div>\n",
       "<style scoped>\n",
       "    .dataframe tbody tr th:only-of-type {\n",
       "        vertical-align: middle;\n",
       "    }\n",
       "\n",
       "    .dataframe tbody tr th {\n",
       "        vertical-align: top;\n",
       "    }\n",
       "\n",
       "    .dataframe thead th {\n",
       "        text-align: right;\n",
       "    }\n",
       "</style>\n",
       "<table border=\"1\" class=\"dataframe\">\n",
       "  <thead>\n",
       "    <tr style=\"text-align: right;\">\n",
       "      <th></th>\n",
       "      <th>phi</th>\n",
       "      <th>G_K1</th>\n",
       "      <th>G_Kr</th>\n",
       "      <th>G_Ks</th>\n",
       "      <th>G_to</th>\n",
       "      <th>P_CaL</th>\n",
       "      <th>G_CaT</th>\n",
       "      <th>G_Na</th>\n",
       "      <th>G_F</th>\n",
       "      <th>K_NaCa</th>\n",
       "      <th>P_NaK</th>\n",
       "      <th>G_b_Na</th>\n",
       "      <th>G_b_Ca</th>\n",
       "      <th>G_PCa</th>\n",
       "      <th>fitness</th>\n",
       "    </tr>\n",
       "  </thead>\n",
       "  <tbody>\n",
       "    <tr>\n",
       "      <th>0</th>\n",
       "      <td>0.775628</td>\n",
       "      <td>0.675315</td>\n",
       "      <td>2.650434</td>\n",
       "      <td>4.334555</td>\n",
       "      <td>9.196563e-03</td>\n",
       "      <td>0.288796</td>\n",
       "      <td>0.389463</td>\n",
       "      <td>0.335001</td>\n",
       "      <td>1.512508</td>\n",
       "      <td>2.888285</td>\n",
       "      <td>0.391604</td>\n",
       "      <td>0.035992</td>\n",
       "      <td>0.586479</td>\n",
       "      <td>0.609346</td>\n",
       "      <td>132.473587</td>\n",
       "    </tr>\n",
       "    <tr>\n",
       "      <th>1</th>\n",
       "      <td>0.775628</td>\n",
       "      <td>0.675315</td>\n",
       "      <td>2.650434</td>\n",
       "      <td>4.334555</td>\n",
       "      <td>2.450242e-02</td>\n",
       "      <td>0.292615</td>\n",
       "      <td>0.419559</td>\n",
       "      <td>0.349077</td>\n",
       "      <td>1.596385</td>\n",
       "      <td>2.992886</td>\n",
       "      <td>0.438024</td>\n",
       "      <td>0.035335</td>\n",
       "      <td>0.526647</td>\n",
       "      <td>0.609346</td>\n",
       "      <td>133.175263</td>\n",
       "    </tr>\n",
       "    <tr>\n",
       "      <th>2</th>\n",
       "      <td>0.775628</td>\n",
       "      <td>0.675315</td>\n",
       "      <td>2.650434</td>\n",
       "      <td>4.334555</td>\n",
       "      <td>1.432695e-02</td>\n",
       "      <td>0.293383</td>\n",
       "      <td>0.406567</td>\n",
       "      <td>0.335001</td>\n",
       "      <td>1.512135</td>\n",
       "      <td>2.901646</td>\n",
       "      <td>0.370172</td>\n",
       "      <td>0.035933</td>\n",
       "      <td>0.496448</td>\n",
       "      <td>0.609346</td>\n",
       "      <td>133.427304</td>\n",
       "    </tr>\n",
       "    <tr>\n",
       "      <th>3</th>\n",
       "      <td>0.775628</td>\n",
       "      <td>0.254140</td>\n",
       "      <td>2.650434</td>\n",
       "      <td>4.334555</td>\n",
       "      <td>8.637277e-17</td>\n",
       "      <td>0.315902</td>\n",
       "      <td>0.475337</td>\n",
       "      <td>0.310485</td>\n",
       "      <td>1.703607</td>\n",
       "      <td>2.998820</td>\n",
       "      <td>0.408051</td>\n",
       "      <td>0.020221</td>\n",
       "      <td>0.154906</td>\n",
       "      <td>0.748181</td>\n",
       "      <td>133.932624</td>\n",
       "    </tr>\n",
       "    <tr>\n",
       "      <th>4</th>\n",
       "      <td>0.775628</td>\n",
       "      <td>0.675315</td>\n",
       "      <td>2.640649</td>\n",
       "      <td>4.850079</td>\n",
       "      <td>5.976922e-02</td>\n",
       "      <td>0.305420</td>\n",
       "      <td>0.500353</td>\n",
       "      <td>0.341133</td>\n",
       "      <td>1.579939</td>\n",
       "      <td>2.898543</td>\n",
       "      <td>0.324433</td>\n",
       "      <td>0.025676</td>\n",
       "      <td>0.168743</td>\n",
       "      <td>0.734143</td>\n",
       "      <td>135.369830</td>\n",
       "    </tr>\n",
       "  </tbody>\n",
       "</table>\n",
       "</div>"
      ],
      "text/plain": [
       "        phi      G_K1      G_Kr      G_Ks          G_to     P_CaL     G_CaT  \\\n",
       "0  0.775628  0.675315  2.650434  4.334555  9.196563e-03  0.288796  0.389463   \n",
       "1  0.775628  0.675315  2.650434  4.334555  2.450242e-02  0.292615  0.419559   \n",
       "2  0.775628  0.675315  2.650434  4.334555  1.432695e-02  0.293383  0.406567   \n",
       "3  0.775628  0.254140  2.650434  4.334555  8.637277e-17  0.315902  0.475337   \n",
       "4  0.775628  0.675315  2.640649  4.850079  5.976922e-02  0.305420  0.500353   \n",
       "\n",
       "       G_Na       G_F    K_NaCa     P_NaK    G_b_Na    G_b_Ca     G_PCa  \\\n",
       "0  0.335001  1.512508  2.888285  0.391604  0.035992  0.586479  0.609346   \n",
       "1  0.349077  1.596385  2.992886  0.438024  0.035335  0.526647  0.609346   \n",
       "2  0.335001  1.512135  2.901646  0.370172  0.035933  0.496448  0.609346   \n",
       "3  0.310485  1.703607  2.998820  0.408051  0.020221  0.154906  0.748181   \n",
       "4  0.341133  1.579939  2.898543  0.324433  0.025676  0.168743  0.734143   \n",
       "\n",
       "      fitness  \n",
       "0  132.473587  \n",
       "1  133.175263  \n",
       "2  133.427304  \n",
       "3  133.932624  \n",
       "4  135.369830  "
      ]
     },
     "execution_count": 56,
     "metadata": {},
     "output_type": "execute_result"
    }
   ],
   "source": [
    "# The data set should be mostly cleaned-up\n",
    "c5_params = pd.read_csv('./c5_EA_params_20220222.txt', delimiter=' ')\n",
    "c5_params.head()"
   ]
  },
  {
   "cell_type": "markdown",
   "id": "1a144345",
   "metadata": {},
   "source": [
    "### *Observations and a brief introduction to evolutionary algorithms*"
   ]
  },
  {
   "cell_type": "markdown",
   "id": "9b5dfc84",
   "metadata": {},
   "source": [
    "There are serveral things to point out here that will help build an understanting of the data. The first 5 values of the variable *phi* ($\\phi$) are identical up to the 6th digit and 4/5 of the *G_K1* values are also identical. This individual similarity is true for the other variables as well, and is expected from optimizations using evolutionary algorithms. As the name of the algorithm implies, EAs select the most fit individuals to reproduce and populate the next generation, so as generations proceed certain values propagate. EAs are robust and generic optimizers that are only contrained to the domain objective through the cost function. I implemented an EA here because after the generational evaluation there isn't a need for additional simulations. Most mechanistic cardiomyocyte models are compuationally expensive to run and require the numerical integrator to use small time steps. The last column named *fitness* is the result of evaluating the cost function and we will exclude it while clustering."
   ]
  },
  {
   "cell_type": "markdown",
   "id": "7f1f5078",
   "metadata": {},
   "source": [
    "*Let's start with some preprocessing.*"
   ]
  },
  {
   "cell_type": "code",
   "execution_count": 57,
   "id": "6e6cd81d",
   "metadata": {},
   "outputs": [],
   "source": [
    "\"\"\"The parameters span are expressed in linear scale for the simulation,\n",
    "but are quantities being modeled are distributed on the logarithmic scale.\"\"\"\n",
    "\n",
    "# Drop fitness\n",
    "fitness = c5_params.fitness\n",
    "c5_params.drop(labels=['fitness'], axis=1, inplace=True)\n",
    "\n",
    "# Log and standardize\n",
    "scaler = StandardScaler()\n",
    "sc_params = scaler.fit_transform(np.log(c5_params))"
   ]
  },
  {
   "cell_type": "markdown",
   "id": "9314ffa8",
   "metadata": {},
   "source": [
    "### *How many clusters?*"
   ]
  },
  {
   "cell_type": "markdown",
   "id": "fcf515a6",
   "metadata": {},
   "source": [
    "In cluster analysis problems determining the number of clusters is a central question. There are many algorithms that can be choosen that will group the data differently, but what is 'correct' is sometimes difficult to determine. The data set here is not too large, so I am going start by making a dendrogram. I like that hierarchical clustering is deterministic, produces an appealing visualization, and works thematically with analyzing EA optimized models. The hierarchical method used here is an agglomerative type."
   ]
  },
  {
   "cell_type": "code",
   "execution_count": 68,
   "id": "1da7f804",
   "metadata": {},
   "outputs": [
    {
     "data": {
      "text/plain": [
       "array([[3.07000000e+02, 3.08000000e+02, 2.01227923e-15, 2.00000000e+00],\n",
       "       [8.20000000e+01, 8.30000000e+01, 4.91336635e-03, 2.00000000e+00],\n",
       "       [3.09000000e+02, 3.10000000e+02, 1.08469511e-02, 2.00000000e+00],\n",
       "       [3.13000000e+02, 1.02400000e+03, 1.75525222e-02, 3.00000000e+00],\n",
       "       [4.86000000e+02, 4.88000000e+02, 1.85121013e-02, 2.00000000e+00]])"
      ]
     },
     "execution_count": 68,
     "metadata": {},
     "output_type": "execute_result"
    }
   ],
   "source": [
    "\"\"\"There are 14 features and the distance measurement I am using is the standardized-log Euclidean distance.\n",
    "The merging criterion is the Ward's minimum variance.\"\"\"\n",
    "Z = linkage(sc_params, 'ward')\n",
    "Z[:5]"
   ]
  },
  {
   "cell_type": "markdown",
   "id": "ef6b7c4c",
   "metadata": {},
   "source": [
    "The *linkage()* function returns Z-matrix containing the distances and linkages between the points. Briefly in each row: the first two columns are the indices of the data points, the third column is the calculated distance between them, and the last is count of data points that are contained after the points are merged. Before we jump in and plot the dendrogram, let's take a quick look at the distribution of calculated distances."
   ]
  },
  {
   "cell_type": "code",
   "execution_count": 98,
   "id": "fab4ac28",
   "metadata": {
    "scrolled": true
   },
   "outputs": [
    {
     "data": {
      "image/png": "[encoded data removed]",
      "text/plain": [
       "<Figure size 576x360 with 1 Axes>"
      ]
     },
     "metadata": {
      "needs_background": "light"
     },
     "output_type": "display_data"
    }
   ],
   "source": [
    "# Get distances\n",
    "coph_dists = [i[2] for i in Z]\n",
    "\n",
    "# Plot histogram\n",
    "plt.figure(figsize=(8,5))\n",
    "sns.histplot(coph_dists, bins=30)\n",
    "plt.title('Distribution of Merge Distances')\n",
    "plt.xlabel('Euclidean Distance')\n",
    "plt.grid(True)\n",
    "plt.show()"
   ]
  },
  {
   "cell_type": "markdown",
   "id": "6a4d0490",
   "metadata": {},
   "source": [
    "These intermediate plots help remind me what is being calculated. This distribution shows that there were many short-distance merges and then a steep drop-off and few long-distance merges. This plot indicates that the calculation worked, but cannot indicate that the clusters are well fit.\n",
    "\n",
    "The cophenetic correlation coefficient calculates the correlation between the merge distances and the pairwise distances."
   ]
  },
  {
   "cell_type": "code",
   "execution_count": 122,
   "id": "7891bd13",
   "metadata": {},
   "outputs": [
    {
     "name": "stdout",
     "output_type": "stream",
     "text": [
      "Cophenentic Coeff: 0.42985\n",
      "Last 10 Merges: [22.73601639 29.76609019 29.98886932 37.38609647 39.26524788 40.24168985\n",
      " 45.06013172 51.53842946 53.01326516 64.6827849 ]\n"
     ]
    }
   ],
   "source": [
    "# Calculate c\n",
    "c, coph_dists = cophenet(Z, pdist(sc_params))\n",
    "print(f'Cophenentic Coeff: {round(c, 5)}')\n",
    "\n",
    "# Print Last 10 merge distances\n",
    "print(f'Last 10 Merges: {Z[-10:,2]}')"
   ]
  },
  {
   "cell_type": "markdown",
   "id": "dbcaee68",
   "metadata": {},
   "source": [
    "There is some correlation, but not strong correlation. There are probably some noticable clusters in the dendrogram. The distances of the last 3 merges (51.5, 53.0, 64.7) don't show huge jumps, so it might indicate that some points are not clearly separated."
   ]
  },
  {
   "cell_type": "code",
   "execution_count": 131,
   "id": "99263f3e",
   "metadata": {
    "scrolled": false
   },
   "outputs": [
    {
     "data": {
      "image/png": "[encoded data removed]",
      "text/plain": [
       "<Figure size 1080x576 with 1 Axes>"
      ]
     },
     "metadata": {
      "needs_background": "light"
     },
     "output_type": "display_data"
    }
   ],
   "source": [
    "# Plot the Dendrogram\n",
    "plt.figure(figsize=(15,8))\n",
    "plt.title('Hierarchical clustering of model parameters')\n",
    "plt.xlabel('Index')\n",
    "plt.ylabel('Distance')\n",
    "plt.tick_params(labelbottom = False)\n",
    "dendrogram(Z, leaf_font_size=0, color_threshold=35)\n",
    "plt.axhline(y=35, linestyle='dashed', color='grey')\n",
    "plt.show()"
   ]
  },
  {
   "cell_type": "markdown",
   "id": "0c71383f",
   "metadata": {},
   "source": [
    "Kind of messy, the purple and brown clusters seem to add more data with consistent distances. The color cutoff at 35 is where I would manually choose to segment the models and I would end up 8 hypothese to evaluate. Let's check if the *elbow* method will give any insight into how many clusters to include."
   ]
  },
  {
   "cell_type": "code",
   "execution_count": 143,
   "id": "af6aa9fd",
   "metadata": {},
   "outputs": [
    {
     "data": {
      "image/png": "[encoded data removed]",
      "text/plain": [
       "<Figure size 432x288 with 1 Axes>"
      ]
     },
     "metadata": {
      "needs_background": "light"
     },
     "output_type": "display_data"
    },
    {
     "name": "stdout",
     "output_type": "stream",
     "text": [
      "Clusters: 2\n"
     ]
    }
   ],
   "source": [
    "# Create merge indices\n",
    "idxs = np.arange(1, len(Z[-15:,2]) + 1)\n",
    "# Calculate merge length acceleration\n",
    "acc = np.diff(Z[-15:,2][::-1], 2)\n",
    "# Plot acceleration and merge lengths\n",
    "plt.plot(idxs, Z[-15:,2][::-1])\n",
    "plt.plot(idxs[:-2] + 1, acc)\n",
    "plt.show()\n",
    "# Print max acc\n",
    "print(f'Clusters: {acc.argmax()+2}')"
   ]
  },
  {
   "cell_type": "markdown",
   "id": "d5a535a9",
   "metadata": {},
   "source": [
    "The maximum distance acceleration occured at the final step, which would segment the models into the orange cluster and everything else. There could be many reasons that the clusters were not well identified. I suspect that the higher dimensionality (14 parameters) and low observations cause the data to become sparse."
   ]
  }
 ],
 "metadata": {
  "kernelspec": {
   "display_name": "Python 3",
   "language": "python",
   "name": "python3"
  },
  "language_info": {
   "codemirror_mode": {
    "name": "ipython",
    "version": 3
   },
   "file_extension": ".py",
   "mimetype": "text/x-python",
   "name": "python",
   "nbconvert_exporter": "python",
   "pygments_lexer": "ipython3",
   "version": "3.8.8"
  }
 },
 "nbformat": 4,
 "nbformat_minor": 5
}

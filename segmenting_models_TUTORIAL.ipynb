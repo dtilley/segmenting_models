{
 "cells": [
  {
   "cell_type": "markdown",
   "id": "f18ef556",
   "metadata": {},
   "source": [
    "# Segmenting Cardiomyoctye Model Parameters"
   ]
  },
  {
   "cell_type": "markdown",
   "id": "46ca9025",
   "metadata": {},
   "source": [
    "### *Personal Note*"
   ]
  },
  {
   "cell_type": "markdown",
   "id": "e4e0c925",
   "metadata": {},
   "source": [
    "*The data and analysis included here was part of a project where I evaluated predictions of cardiomyocyte action potential models. The objective here is to separate different hypotheses from a population of models. Additionally, I review some different clustering stratagies. The model features have biophysical and physiological meaning, but I will put a principal component step in as well. The data set here was the resulting output from training multiple populations of models using evolutionary optimization algorithms. I hope you find it interesting.*"
   ]
  },
  {
   "cell_type": "markdown",
   "id": "ad01560d",
   "metadata": {},
   "source": [
    "## Introduction"
   ]
  },
  {
   "cell_type": "markdown",
   "id": "ea2bfe14",
   "metadata": {},
   "source": [
    "The cardiac action potential (AP) is the electrical waveform that is conducted through individual cells during a cardiac cycle. Cardiac electrophysiology is a complex system consisting of electrically active proteins, organelles, and tonal signalling molecules that work in conjuction to produce the AP. Each singular cell expresses different quantities of each active component, which will influence the risk of an arrhythmia occurance. It is quite challenging to determine the component quanties in individual cells, so it is useful to train AP models on data sets collected from specific cells to estimate these quantities. I used an evolutionary algorithm (EA) to optimize 14 parameters and pooled the best performing models into a single dataset. In this analysis I am going to use clustering algorithms to segment the proposed solutions from the EA. I expect that independent EA optimizations will produce independent solutions, but if multiple EA runs converge on the same solution then it might suggest that a global minimum was discovered.\n",
    "\n",
    "   Let's look at the data!"
   ]
  },
  {
   "cell_type": "code",
   "execution_count": 1,
   "id": "5da28028",
   "metadata": {},
   "outputs": [],
   "source": [
    "import pandas as pd\n",
    "import numpy as np\n",
    "from sklearn.preprocessing import StandardScaler\n",
    "\n",
    "\"\"\"'cluster_tools' is a collection of functions with my preferred defaults.\"\"\"\n",
    "import cluster_tools as ct"
   ]
  },
  {
   "cell_type": "code",
   "execution_count": 6,
   "id": "c4dddc55",
   "metadata": {},
   "outputs": [
    {
     "data": {
      "text/html": [
       "<div>\n",
       "<style scoped>\n",
       "    .dataframe tbody tr th:only-of-type {\n",
       "        vertical-align: middle;\n",
       "    }\n",
       "\n",
       "    .dataframe tbody tr th {\n",
       "        vertical-align: top;\n",
       "    }\n",
       "\n",
       "    .dataframe thead th {\n",
       "        text-align: right;\n",
       "    }\n",
       "</style>\n",
       "<table border=\"1\" class=\"dataframe\">\n",
       "  <thead>\n",
       "    <tr style=\"text-align: right;\">\n",
       "      <th></th>\n",
       "      <th>phi</th>\n",
       "      <th>G_K1</th>\n",
       "      <th>G_Kr</th>\n",
       "      <th>G_Ks</th>\n",
       "      <th>G_to</th>\n",
       "      <th>P_CaL</th>\n",
       "      <th>G_CaT</th>\n",
       "      <th>G_Na</th>\n",
       "      <th>G_F</th>\n",
       "      <th>K_NaCa</th>\n",
       "      <th>P_NaK</th>\n",
       "      <th>G_b_Na</th>\n",
       "      <th>G_b_Ca</th>\n",
       "      <th>G_PCa</th>\n",
       "      <th>fitness</th>\n",
       "    </tr>\n",
       "  </thead>\n",
       "  <tbody>\n",
       "    <tr>\n",
       "      <th>0</th>\n",
       "      <td>0.775628</td>\n",
       "      <td>0.675315</td>\n",
       "      <td>2.650434</td>\n",
       "      <td>4.334555</td>\n",
       "      <td>9.196563e-03</td>\n",
       "      <td>0.288796</td>\n",
       "      <td>0.389463</td>\n",
       "      <td>0.335001</td>\n",
       "      <td>1.512508</td>\n",
       "      <td>2.888285</td>\n",
       "      <td>0.391604</td>\n",
       "      <td>0.035992</td>\n",
       "      <td>0.586479</td>\n",
       "      <td>0.609346</td>\n",
       "      <td>132.473587</td>\n",
       "    </tr>\n",
       "    <tr>\n",
       "      <th>1</th>\n",
       "      <td>0.775628</td>\n",
       "      <td>0.675315</td>\n",
       "      <td>2.650434</td>\n",
       "      <td>4.334555</td>\n",
       "      <td>2.450242e-02</td>\n",
       "      <td>0.292615</td>\n",
       "      <td>0.419559</td>\n",
       "      <td>0.349077</td>\n",
       "      <td>1.596385</td>\n",
       "      <td>2.992886</td>\n",
       "      <td>0.438024</td>\n",
       "      <td>0.035335</td>\n",
       "      <td>0.526647</td>\n",
       "      <td>0.609346</td>\n",
       "      <td>133.175263</td>\n",
       "    </tr>\n",
       "    <tr>\n",
       "      <th>2</th>\n",
       "      <td>0.775628</td>\n",
       "      <td>0.675315</td>\n",
       "      <td>2.650434</td>\n",
       "      <td>4.334555</td>\n",
       "      <td>1.432695e-02</td>\n",
       "      <td>0.293383</td>\n",
       "      <td>0.406567</td>\n",
       "      <td>0.335001</td>\n",
       "      <td>1.512135</td>\n",
       "      <td>2.901646</td>\n",
       "      <td>0.370172</td>\n",
       "      <td>0.035933</td>\n",
       "      <td>0.496448</td>\n",
       "      <td>0.609346</td>\n",
       "      <td>133.427304</td>\n",
       "    </tr>\n",
       "    <tr>\n",
       "      <th>3</th>\n",
       "      <td>0.775628</td>\n",
       "      <td>0.254140</td>\n",
       "      <td>2.650434</td>\n",
       "      <td>4.334555</td>\n",
       "      <td>8.637277e-17</td>\n",
       "      <td>0.315902</td>\n",
       "      <td>0.475337</td>\n",
       "      <td>0.310485</td>\n",
       "      <td>1.703607</td>\n",
       "      <td>2.998820</td>\n",
       "      <td>0.408051</td>\n",
       "      <td>0.020221</td>\n",
       "      <td>0.154906</td>\n",
       "      <td>0.748181</td>\n",
       "      <td>133.932624</td>\n",
       "    </tr>\n",
       "    <tr>\n",
       "      <th>4</th>\n",
       "      <td>0.775628</td>\n",
       "      <td>0.675315</td>\n",
       "      <td>2.640649</td>\n",
       "      <td>4.850079</td>\n",
       "      <td>5.976922e-02</td>\n",
       "      <td>0.305420</td>\n",
       "      <td>0.500353</td>\n",
       "      <td>0.341133</td>\n",
       "      <td>1.579939</td>\n",
       "      <td>2.898543</td>\n",
       "      <td>0.324433</td>\n",
       "      <td>0.025676</td>\n",
       "      <td>0.168743</td>\n",
       "      <td>0.734143</td>\n",
       "      <td>135.369830</td>\n",
       "    </tr>\n",
       "  </tbody>\n",
       "</table>\n",
       "</div>"
      ],
      "text/plain": [
       "        phi      G_K1      G_Kr      G_Ks          G_to     P_CaL     G_CaT  \\\n",
       "0  0.775628  0.675315  2.650434  4.334555  9.196563e-03  0.288796  0.389463   \n",
       "1  0.775628  0.675315  2.650434  4.334555  2.450242e-02  0.292615  0.419559   \n",
       "2  0.775628  0.675315  2.650434  4.334555  1.432695e-02  0.293383  0.406567   \n",
       "3  0.775628  0.254140  2.650434  4.334555  8.637277e-17  0.315902  0.475337   \n",
       "4  0.775628  0.675315  2.640649  4.850079  5.976922e-02  0.305420  0.500353   \n",
       "\n",
       "       G_Na       G_F    K_NaCa     P_NaK    G_b_Na    G_b_Ca     G_PCa  \\\n",
       "0  0.335001  1.512508  2.888285  0.391604  0.035992  0.586479  0.609346   \n",
       "1  0.349077  1.596385  2.992886  0.438024  0.035335  0.526647  0.609346   \n",
       "2  0.335001  1.512135  2.901646  0.370172  0.035933  0.496448  0.609346   \n",
       "3  0.310485  1.703607  2.998820  0.408051  0.020221  0.154906  0.748181   \n",
       "4  0.341133  1.579939  2.898543  0.324433  0.025676  0.168743  0.734143   \n",
       "\n",
       "      fitness  \n",
       "0  132.473587  \n",
       "1  133.175263  \n",
       "2  133.427304  \n",
       "3  133.932624  \n",
       "4  135.369830  "
      ]
     },
     "execution_count": 6,
     "metadata": {},
     "output_type": "execute_result"
    }
   ],
   "source": [
    "c5_params = pd.read_csv('./c5_EA_params_20220222.txt', delimiter=' ')\n",
    "c5_params.head()"
   ]
  },
  {
   "cell_type": "markdown",
   "id": "1a144345",
   "metadata": {},
   "source": [
    "### Data definitions and observations"
   ]
  },
  {
   "cell_type": "markdown",
   "id": "9b5dfc84",
   "metadata": {},
   "source": [
    "There are serveral things to point out here that will help build an understanting of the data. Firstly, the first 5 values of the variable *phi* ($\\phi$) are identical up to the 6th digit and 4/5 of the *G_K1* values are also identical. This individual similarity is true for the other variables as well, and is expected from optimizations using evolutionary algorithms. As the name of the algorithm implies, EAs select the most fit individuals to reproduce and populate the next generation. The last column named *fitness* is the "
   ]
  },
  {
   "cell_type": "code",
   "execution_count": null,
   "id": "6e6cd81d",
   "metadata": {},
   "outputs": [],
   "source": []
  }
 ],
 "metadata": {
  "kernelspec": {
   "display_name": "Python 3",
   "language": "python",
   "name": "python3"
  },
  "language_info": {
   "codemirror_mode": {
    "name": "ipython",
    "version": 3
   },
   "file_extension": ".py",
   "mimetype": "text/x-python",
   "name": "python",
   "nbconvert_exporter": "python",
   "pygments_lexer": "ipython3",
   "version": "3.8.8"
  }
 },
 "nbformat": 4,
 "nbformat_minor": 5
}
